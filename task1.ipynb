{
 "cells": [
  {
   "cell_type": "code",
   "execution_count": 1,
   "metadata": {},
   "outputs": [],
   "source": [
    "from sklearn.feature_extraction.text import TfidfVectorizer\n",
    "import glob\n",
    "import numpy as np     \n",
    "from sklearn.metrics.pairwise import cosine_similarity"
   ]
  },
  {
   "cell_type": "code",
   "execution_count": 2,
   "metadata": {},
   "outputs": [
    {
     "name": "stdout",
     "output_type": "stream",
     "text": [
      "Total number of documents found: 100\n"
     ]
    }
   ],
   "source": [
    "DATA_ROOT = 'documents/'\n",
    "file_list = sorted(glob.glob(DATA_ROOT+'*'))[:100]\n",
    "print(\"Total number of documents found:\", len(file_list))\n",
    "documents = [open(file).read() for file in file_list]\n",
    "tfidf = TfidfVectorizer()\n",
    "tfidf_matrix = tfidf.fit_transform(documents)"
   ]
  },
  {
   "cell_type": "code",
   "execution_count": 3,
   "metadata": {},
   "outputs": [
    {
     "data": {
      "text/plain": [
       "<100x12300 sparse matrix of type '<class 'numpy.float64'>'\n",
       "\twith 115171 stored elements in Compressed Sparse Row format>"
      ]
     },
     "execution_count": 3,
     "metadata": {},
     "output_type": "execute_result"
    }
   ],
   "source": [
    "tfidf_matrix"
   ]
  },
  {
   "cell_type": "code",
   "execution_count": 5,
   "metadata": {},
   "outputs": [
    {
     "data": {
      "text/plain": [
       "array([[1.        , 0.79799435, 0.86675127, 0.8958092 , 0.88673659,\n",
       "        0.8852312 , 0.8509788 , 0.89495329, 0.86185756, 0.84289669,\n",
       "        0.8737036 , 0.87420098, 0.8906289 , 0.89186449, 0.85372983,\n",
       "        0.77900626, 0.88623268, 0.69322372, 0.79799435, 0.89370416,\n",
       "        0.8905628 , 0.86261965, 0.89894069, 0.90046817, 0.8904253 ,\n",
       "        0.89454975, 0.87556153, 0.88926552, 0.89430393, 0.89419595,\n",
       "        0.89069711, 0.90218237, 0.87859078, 0.88873005, 0.88462769,\n",
       "        0.87509679, 0.88293161, 0.8957993 , 0.89638059, 0.78730564,\n",
       "        0.74962193, 0.77147853, 0.87356489, 0.74711014, 0.8812766 ,\n",
       "        0.87893022, 0.8886292 , 0.8984477 , 0.89773293, 0.88838056,\n",
       "        0.89266972, 0.8909951 , 0.90066062, 0.7531184 , 0.88654399,\n",
       "        0.84342949, 0.88617949, 0.78787044, 0.85349964, 0.87853948,\n",
       "        0.89289131, 0.8573664 , 0.89460802, 0.8974435 , 0.89480545,\n",
       "        0.89828127, 0.88466145, 0.627925  , 0.8972845 , 0.88989603,\n",
       "        0.89195199, 0.9016803 , 0.87762804, 0.90069508, 0.89401681,\n",
       "        0.88586144, 0.88689929, 0.8780884 , 0.88266733, 0.89045943,\n",
       "        0.87438927, 0.87227193, 0.88267308, 0.89336006, 0.90081837,\n",
       "        0.88953886, 0.89455404, 0.65377313, 0.87647688, 0.70213357,\n",
       "        0.88637211, 0.85458882, 0.87696041, 0.87683201, 0.89476383,\n",
       "        0.87102328, 0.88629679, 0.83796838, 0.89759211, 0.89652586]])"
      ]
     },
     "execution_count": 5,
     "metadata": {},
     "output_type": "execute_result"
    }
   ],
   "source": [
    "cosine_similarity(tfidf_matrix[0:1], tfidf_matrix)"
   ]
  },
  {
   "cell_type": "code",
   "execution_count": 6,
   "metadata": {},
   "outputs": [],
   "source": [
    "query = '''FOR IMMEDIATE RELEASE OFFICE OF THE PRESS SECRETARY JUNE 19, 2001 PRESS BRIEFING BY ARI FLEISCHER \n",
    "        THE JAMES S. BRADY BRIEFING ROOM LISTEN TO THE BRIEFING PERSONNEL ANNOUNCEMENTS IRS LETTER TO TAXPAYERS     REFERENCE B     \n",
    "        FERC DECISION ON CALIFORNIA REFERENCE B GARZA EXECUTION/PRESIDENT'S REACTION DETERRENCE     \n",
    "        MIDDLE EAST-SHARON VISIT REFERENCE B REFERENCE C EMBASSY IN JERUSALEM'''\n",
    "query = tfidf.transform([query])"
   ]
  },
  {
   "cell_type": "code",
   "execution_count": 8,
   "metadata": {},
   "outputs": [
    {
     "data": {
      "text/plain": [
       "array([[0.34366872, 0.2039629 , 0.22272374, 0.22445798, 0.22259402,\n",
       "        0.23385666, 0.21561575, 0.22765877, 0.22205468, 0.2150127 ,\n",
       "        0.22171374, 0.22450382, 0.226009  , 0.22573802, 0.21994681,\n",
       "        0.19709493, 0.21188545, 0.18407256, 0.2039629 , 0.22290962,\n",
       "        0.21558567, 0.19257007, 0.22942044, 0.23723144, 0.21357137,\n",
       "        0.22143108, 0.21004628, 0.22721231, 0.23106578, 0.2225232 ,\n",
       "        0.22133037, 0.23868358, 0.21976241, 0.23957804, 0.22224895,\n",
       "        0.21431912, 0.20642834, 0.22866966, 0.22345925, 0.18535758,\n",
       "        0.16959779, 0.178382  , 0.21408686, 0.17448204, 0.21839869,\n",
       "        0.21548718, 0.22510346, 0.23749449, 0.22637502, 0.22164849,\n",
       "        0.22555587, 0.22161197, 0.22874591, 0.1809279 , 0.21960546,\n",
       "        0.20193434, 0.22816585, 0.18711832, 0.20768774, 0.22282382,\n",
       "        0.23199776, 0.20588275, 0.23041949, 0.2216034 , 0.22400203,\n",
       "        0.23749868, 0.24609375, 0.1575773 , 0.23386555, 0.21168136,\n",
       "        0.23309751, 0.22552644, 0.21460299, 0.2439217 , 0.22499494,\n",
       "        0.22708515, 0.22296595, 0.22549564, 0.22547782, 0.22030766,\n",
       "        0.2186132 , 0.20513612, 0.22121214, 0.23456497, 0.23776417,\n",
       "        0.22597493, 0.21987675, 0.15440131, 0.22807663, 0.16087055,\n",
       "        0.22430813, 0.20384447, 0.22745255, 0.22900122, 0.22322562,\n",
       "        0.2257734 , 0.22879918, 0.20130055, 0.23993218, 0.23090774]])"
      ]
     },
     "execution_count": 8,
     "metadata": {},
     "output_type": "execute_result"
    }
   ],
   "source": [
    "similarity = cosine_similarity(query, tfidf_matrix)\n",
    "similarity"
   ]
  },
  {
   "cell_type": "code",
   "execution_count": 9,
   "metadata": {},
   "outputs": [
    {
     "data": {
      "text/plain": [
       "0"
      ]
     },
     "execution_count": 9,
     "metadata": {},
     "output_type": "execute_result"
    }
   ],
   "source": [
    "similarity_index = np.argmax(similarity)\n",
    "similarity_index"
   ]
  },
  {
   "cell_type": "code",
   "execution_count": 11,
   "metadata": {},
   "outputs": [
    {
     "data": {
      "text/plain": [
       "\"FOR IMMEDIATE RELEASE  \\nOFFICE OF THE PRESS SECRETARY  \\nJUNE 19, 2001  \\nPRESS BRIEFING BY ARI FLEISCHER \\nTHE JAMES S. BRADY BRIEFING ROOM  \\n LISTEN TO THE BRIEFING  \\n  PERSONNEL ANNOUNCEMENTS   \\n  IRS LETTER \\nTO TAXPAYERS     REFERENCE B     \\n  FERC DECISION ON \\nCALIFORNIA     REFERENCE B     \\n  GARZA EXECUTION/PRESIDENT'S \\nREACTION     DETERRENCE     \\n  MIDDLE \\nEAST-SHARON VISIT     REFERENCE B    \\n   REFERENCE C     \\n  EMBASSY IN \\nJERUSALEM   \\n  FBI \\nDIRECTOR/CANDIDATE   \\n  VICE \\nPRESIDENT'S ENERGY TASK FORCE   \\n  PUTIN \\nMEETING-NMD   \\n  RUMSFELD \\nMEETING    \\n1:40 P.M. EDT \\n       MR. FLEISCHER:  GOOD \\nAFTERNOON.  I HAVE SEVERAL  PERSONNEL \\nANNOUNCEMENTS .  PRESIDENT BUSH TODAY ANNOUNCED HIS INTENTION \\nTO NOMINATE JOHN DANILOVICH TO BE AMBASSADOR OF THE UNITED STATES TO \\nTHE REPUBLIC OF COSTA RICA.  THE PRESIDENT TODAY IS \\nANNOUNCING HIS INTENTION TO NOMINATE MARTIN J. SILVERSTEIN TO BE \\nAMBASSADOR TO URUGUAY.  THE PRESIDENT TODAY IS ANNOUNCING HIS \\nINTENTION TO NOMINATE JOHNNY YOUNG\""
      ]
     },
     "execution_count": 11,
     "metadata": {},
     "output_type": "execute_result"
    }
   ],
   "source": [
    "documents[similarity_index][:1000]"
   ]
  },
  {
   "cell_type": "markdown",
   "metadata": {},
   "source": [
    "# Improvements\n",
    "- We can extract the embeddings from Glove, Word2Vec or Transformer models then compute the similarity to achieve better performance. "
   ]
  },
  {
   "cell_type": "code",
   "execution_count": null,
   "metadata": {},
   "outputs": [],
   "source": []
  }
 ],
 "metadata": {
  "kernelspec": {
   "display_name": "Python 3",
   "language": "python",
   "name": "python3"
  },
  "language_info": {
   "codemirror_mode": {
    "name": "ipython",
    "version": 3
   },
   "file_extension": ".py",
   "mimetype": "text/x-python",
   "name": "python",
   "nbconvert_exporter": "python",
   "pygments_lexer": "ipython3",
   "version": "3.7.7"
  }
 },
 "nbformat": 4,
 "nbformat_minor": 4
}
