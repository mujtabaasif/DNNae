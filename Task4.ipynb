{
 "cells": [
  {
   "cell_type": "markdown",
   "metadata": {},
   "source": [
    "# Handling imbalanced NLP dataset. "
   ]
  },
  {
   "cell_type": "markdown",
   "metadata": {},
   "source": [
    "### These are the possible ways of handling the imbalance dataset in NLP. It can vary according to the task. \n",
    "\n",
    "## Scraping  \n",
    "- Gathering more meaningful and diverse data is always better than sampling original data (only if it is possible).\n",
    "\n",
    "## Removing data redundancy\n",
    "- Remove redundant data samples having the same semantic meaning can help in reducing majority class. (Remember more data is always better)  \n",
    "- Merge minority classes: sometimes multiple classes have overlapping features. It’s better to merge those multiple minority classes.\n",
    "\n",
    "## Resample training dataset\n",
    "- Undersampling: An effort to eliminate data point from the majority class randomly until the classes are balanced. There is a likelihood of information loss which might lead to poor model training.\n",
    "- Oversampling — This is the process to replicate minority class instances randomly. This approach can overfit and lead to inaccurate predictions on test data.\n",
    "- Generates synthetic samples by taking each minority class sample and introducing synthetic examples. Unfortunately, this technique doesn’t work well with text data because the numerical vectors that are created from the text are very high dimensional.\n",
    "\n",
    "## Data augmentation\n",
    "- Tokenizing document into a sentence, shuffling and rejoining them to generate new text. \n",
    "- Replacing adjectives, verbs etc by its a synonym.\n",
    "- Converting text to any random language and converting back using neural machine translation. \n",
    "\n",
    "## Evaluation Metrics\n",
    "- Focus on evaluation metrics and never use Accuracy. "
   ]
  },
  {
   "cell_type": "code",
   "execution_count": null,
   "metadata": {},
   "outputs": [],
   "source": []
  }
 ],
 "metadata": {
  "kernelspec": {
   "display_name": "Python 3",
   "language": "python",
   "name": "python3"
  },
  "language_info": {
   "codemirror_mode": {
    "name": "ipython",
    "version": 3
   },
   "file_extension": ".py",
   "mimetype": "text/x-python",
   "name": "python",
   "nbconvert_exporter": "python",
   "pygments_lexer": "ipython3",
   "version": "3.7.7"
  }
 },
 "nbformat": 4,
 "nbformat_minor": 4
}
